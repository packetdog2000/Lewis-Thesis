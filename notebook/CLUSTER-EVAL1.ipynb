{
 "cells": [
  {
   "cell_type": "code",
   "execution_count": 1,
   "metadata": {
    "collapsed": true
   },
   "outputs": [],
   "source": [
    "import numpy as np, pandas as pd, os,sys\n",
    "import matplotlib.pyplot as plt\n",
    "from matplotlib import cm\n",
    "from matplotlib.colors import colorConverter\n",
    "import gmplot\n",
    "from sklearn.decomposition import PCA\n",
    "from sklearn.cluster import KMeans\n",
    "from sklearn import metrics\n",
    "from sklearn.metrics import pairwise_distances_argmin_min\n",
    "from scipy.spatial.distance import cdist,pdist\n",
    "\n",
    "\n",
    "import sklearn.datasets as datasets\n"
   ]
  },
  {
   "cell_type": "code",
   "execution_count": 2,
   "metadata": {
    "collapsed": true
   },
   "outputs": [],
   "source": [
    "OUTPUT_FOLDER = \"output\"\n",
    "\n",
    "csv_file = \"july-oct-batch3-train.csv\" ## raw_input(\"Enter csv file to load:\")\n",
    "## USED TO CONVERT BACK FROM DECOMPOSED VARIABLES TO GEOCORDS\n",
    "raw_map_df = pd.read_csv(\"output/july-oct-raw.csv\") \n",
    "file_str = \"%s/%s\" %(OUTPUT_FOLDER, csv_file)\n",
    "\n",
    "a = pd.read_csv(file_str) \n",
    "a.columns = ['index1', 'address','city', 'day','hour','type','latitude','longitude','parent_incident','state']\n",
    "a.drop('index1',axis=1,inplace=True)\n",
    "\n",
    "## MODELS\n",
    "X = a[['address','city', 'day','hour','type','latitude','longitude','parent_incident','state']] ## MODEL 1\n",
    "\n",
    "## DECOMPOSE VARIABLE DIMENSIONS\n",
    "pca = PCA(n_components=2).fit(X)\n",
    "pca_2d = pd.DataFrame(pca.transform(X))\n",
    "\n",
    "# Add PCA cols to DF\n",
    "X['pca1'] = pca_2d[0]\n",
    "X['pca2'] = pca_2d[1]\n",
    "\n",
    "pca_out = X[['pca1','pca2']]\n",
    "pca_out.to_csv(\"output/july-oct-batch3-train-pca.csv\")"
   ]
  },
  {
   "cell_type": "code",
   "execution_count": 3,
   "metadata": {
    "collapsed": false
   },
   "outputs": [],
   "source": [
    "def optimalK(data, nrefs=3, minClusters=1, maxClusters=15):\n",
    "    \"\"\"\n",
    "    Calculates KMeans optimal K using Gap Statistic from Tibshirani, Walther, Hastie\n",
    "    Params:\n",
    "        data: ndarry of shape (n_samples, n_features)\n",
    "        nrefs: number of sample reference datasets to create\n",
    "        maxClusters: Maximum number of clusters to test for\n",
    "    Returns: (gaps, optimalK)\n",
    "    \"\"\"\n",
    "    gaps = np.zeros((len(range(minClusters, maxClusters)),))\n",
    "    resultsdf = pd.DataFrame({'clusterCount':[], 'gap':[]})\n",
    "    for gap_index, k in enumerate(range(minClusters, maxClusters)):\n",
    "\n",
    "        # Holder for reference dispersion results\n",
    "        refDisps = np.zeros(nrefs)\n",
    "\n",
    "        # For n references, generate random sample and perform kmeans getting resulting dispersion of each loop\n",
    "        for i in range(nrefs):\n",
    "            \n",
    "            # Create new random reference set\n",
    "            randomReference = np.random.random_sample(size=data.shape)\n",
    "            \n",
    "            # Fit to it\n",
    "            km = KMeans(k)\n",
    "            km.fit(randomReference)\n",
    "            \n",
    "            refDisp = km.inertia_\n",
    "            refDisps[i] = refDisp\n",
    "\n",
    "        # Fit cluster to original data and create dispersion\n",
    "        km = KMeans(k)\n",
    "        km.fit(data)\n",
    "        \n",
    "        origDisp = km.inertia_\n",
    "\n",
    "        # Calculate gap statistic\n",
    "        gap = np.log(np.mean(refDisps)) - np.log(origDisp)\n",
    "\n",
    "        # Assign this loop's gap statistic to gaps\n",
    "        gaps[gap_index] = gap\n",
    "        \n",
    "        resultsdf = resultsdf.append({'clusterCount':k, 'gap':gap}, ignore_index=True)\n",
    "\n",
    "    return (gaps.argmax() + 1, resultsdf)  # Plus 1 because index of 0 means 1 cluster is optimal, index 2 = 3 clusters are optimal\n",
    "    "
   ]
  },
  {
   "cell_type": "code",
   "execution_count": 4,
   "metadata": {
    "collapsed": false
   },
   "outputs": [
    {
     "name": "stdout",
     "output_type": "stream",
     "text": [
      "Optimal k is:  3\n"
     ]
    }
   ],
   "source": [
    "k, gapdf = optimalK(pca_2d, nrefs=5, minClusters=1, maxClusters=50)\n",
    "print 'Optimal k is: ', k"
   ]
  },
  {
   "cell_type": "code",
   "execution_count": null,
   "metadata": {
    "collapsed": false
   },
   "outputs": [],
   "source": [
    "plt.figure(figsize=(12,6))\n",
    "k_clusters = plt.plot(gapdf.clusterCount, gapdf.gap, c='b', linewidth=1)\n",
    "red_dot = plt.scatter(gapdf[gapdf.clusterCount == k].clusterCount, gapdf[gapdf.clusterCount == k].gap, s=30, c='r')\n",
    "plt.grid(True)\n",
    "plt.xlabel('Cluster Counts')\n",
    "plt.ylabel('Gap')\n",
    "plt.legend([red_dot],['Optimal Cluster'],loc='best')\n",
    "plt.title('Gap Statistic Values by Clusters, k=1 to 50\\nSelected k = %s'%(k))\n",
    "plt.show()"
   ]
  },
  {
   "cell_type": "code",
   "execution_count": null,
   "metadata": {
    "collapsed": false
   },
   "outputs": [],
   "source": [
    "km = KMeans(k)\n",
    "km.fit(X)\n",
    "\n",
    "df = pd.DataFrame(X, columns=['pca1','pca2'])\n",
    "df['label'] = km.labels_\n",
    "\n",
    "colors = plt.cm.Spectral(np.linspace(0, 1, len(df.label.unique())))\n",
    "\n",
    "for color, label in zip(colors, df.label.unique()):\n",
    "    \n",
    "    tempdf = df[df.label == label]\n",
    "    plt.scatter(tempdf.pca1, tempdf.pca2, c=color)\n",
    "    \n",
    "plt.scatter(km.cluster_centers_[:,0], km.cluster_centers_[:, 1], c='r', s=500, alpha=0.7, )\n",
    "plt.grid(True)\n",
    "plt.show()"
   ]
  },
  {
   "cell_type": "code",
   "execution_count": null,
   "metadata": {
    "collapsed": false
   },
   "outputs": [],
   "source": [
    "num, gapdf = optimalK(km.cluster_centers_, maxClusters=11)\n",
    "plt.plot(gapdf.clusterCount, gapdf.gap, linewidth=3)\n",
    "plt.scatter(gapdf[gapdf.clusterCount == num].clusterCount, gapdf[gapdf.clusterCount == num].gap, s=250, c='r')\n",
    "plt.grid(True)\n",
    "plt.xlabel('Cluster Count')\n",
    "plt.ylabel('Gap Value')\n",
    "plt.title('Gap Values by Cluster Count')\n",
    "plt.show()"
   ]
  },
  {
   "cell_type": "code",
   "execution_count": null,
   "metadata": {
    "collapsed": false
   },
   "outputs": [],
   "source": [
    "km.cluster_centers_"
   ]
  },
  {
   "cell_type": "code",
   "execution_count": null,
   "metadata": {
    "collapsed": false
   },
   "outputs": [],
   "source": [
    "subKm = KMeans(n_clusters=num)\n",
    "subKm.fit(km.cluster_centers_)\n",
    "\n",
    "df = pd.DataFrame(km.cluster_centers_, columns=[0,1])\n",
    "df['label'] = subKm.labels_\n",
    "\n",
    "colors = plt.cm.Spectral(np.linspace(0, 1, len(df.label.unique())))\n",
    "\n",
    "for color, label in zip(colors, df.label.unique()):\n",
    "    \n",
    "    tempdf = df[df.label == label]\n",
    "    plt.scatter(tempdf.x, tempdf.y, c=color, s=250)\n",
    "    \n",
    "plt.scatter(subKm.cluster_centers_[:,0], subKm.cluster_centers_[:, 1], c='r', s=500, alpha=0.7, )\n",
    "plt.grid(True)\n",
    "plt.show()"
   ]
  },
  {
   "cell_type": "code",
   "execution_count": null,
   "metadata": {
    "collapsed": true
   },
   "outputs": [],
   "source": []
  }
 ],
 "metadata": {
  "kernelspec": {
   "display_name": "Python [Root]",
   "language": "python",
   "name": "Python [Root]"
  },
  "language_info": {
   "codemirror_mode": {
    "name": "ipython",
    "version": 2
   },
   "file_extension": ".py",
   "mimetype": "text/x-python",
   "name": "python",
   "nbconvert_exporter": "python",
   "pygments_lexer": "ipython2",
   "version": "2.7.12"
  }
 },
 "nbformat": 4,
 "nbformat_minor": 0
}
