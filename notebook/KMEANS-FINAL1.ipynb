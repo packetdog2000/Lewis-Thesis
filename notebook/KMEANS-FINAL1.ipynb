{
 "cells": [
  {
   "cell_type": "markdown",
   "metadata": {},
   "source": [
    "#### IMPORT STATEMENTS"
   ]
  },
  {
   "cell_type": "code",
   "execution_count": 1,
   "metadata": {
    "collapsed": true
   },
   "outputs": [],
   "source": [
    "import os,sys\n",
    "import numpy as np, pandas as pd\n",
    "from time import time\n",
    "import matplotlib.pyplot as plt\n",
    "from matplotlib import cm\n",
    "from matplotlib.colors import colorConverter\n",
    "import gmplot\n",
    "from sklearn.decomposition import PCA\n",
    "from sklearn.cluster import KMeans\n",
    "from sklearn import metrics\n",
    "from sklearn.metrics import pairwise_distances_argmin_min\n",
    "from scipy.spatial.distance import cdist,pdist\n"
   ]
  },
  {
   "cell_type": "markdown",
   "metadata": {},
   "source": [
    "#### GET DATA"
   ]
  },
  {
   "cell_type": "code",
   "execution_count": 8,
   "metadata": {
    "collapsed": false
   },
   "outputs": [],
   "source": [
    "OUTPUT_FOLDER = \"../data/output\"\n",
    "SOURCE_FOLDER = \"../data/src\"\n",
    "\n",
    "## CREATE FOLDER IF OUTPUT FOLDER IS UNDEFINED\n",
    "if not os.path.exists(OUTPUT_FOLDER):\n",
    "    os.makedirs(OUTPUT_FOLDER)\n",
    "\n",
    "## IF NO 'data' FOLDER EXISTS, CRATE ONE...\n",
    "if not os.path.exists(SOURCE_FOLDER):\n",
    "    os.makedirs(SOURCE_FOLDER)\n",
    " \n",
    "csv_file = \"july-oct-train.csv\" ## raw_input(\"Enter csv file to load:\")\n",
    "# csv_file = \"july-oct-batch3-test.csv\" ## raw_input(\"Enter csv file to load:\")\n",
    "## USED TO CONVERT BACK FROM DECOMPOSED VARIABLES TO GEOCORDS\n",
    "raw_file = \"%s/july-oct-raw.csv\" %(SOURCE_FOLDER)\n",
    "raw_map_df = pd.read_csv(raw_file) \n",
    "\n",
    "file_str = \"%s/%s\" %(SOURCE_FOLDER, csv_file)\n",
    "a = pd.read_csv(file_str) \n",
    "a.columns = ['index1', 'address','city', 'day','hour','type','latitude','longitude','parent_incident','state']\n",
    "a.drop('index1',axis=1,inplace=True)\n",
    "\n",
    "X = a[['address','city', 'day','hour','type','latitude','longitude','parent_incident','state']]\n",
    "\n",
    "len(X), X.columns\n",
    "X = X.as_matrix()"
   ]
  },
  {
   "cell_type": "markdown",
   "metadata": {},
   "source": [
    "### ELBOW TEST"
   ]
  },
  {
   "cell_type": "code",
   "execution_count": 9,
   "metadata": {
    "collapsed": false
   },
   "outputs": [
    {
     "name": "stdout",
     "output_type": "stream",
     "text": [
      "Enter starting K: 2\n",
      "Enter ending K: 3\n",
      "Enter Interval: 2\n",
      "[ 13285.11226305]\n"
     ]
    }
   ],
   "source": [
    "def plot_variance(start_,end_,interval_=1):\n",
    "    plt.subplots(figsize=(12,5))\n",
    "    \n",
    "#     X = X.as_matrix()\n",
    "    k_list = np.arange(start_,end_+1,interval_)\n",
    "    k_var = [KMeans(n_clusters=k).fit(X) for k in k_list]\n",
    "    centroids = [c.cluster_centers_ for c in k_var]\n",
    "    k_euclidian = [cdist(X, cent, 'euclidean') for cent in centroids]\n",
    "    dist = [np.min(ke, axis=1) for ke in k_euclidian]\n",
    "\n",
    "    ## Total Within cluster SS\n",
    "    wcss = [sum(d**2) for d in dist]\n",
    "    \n",
    "    ## Total SS\n",
    "    tss = sum(pdist(X)**2) / X.shape[0]\n",
    "\n",
    "    ## Between cluster SS\n",
    "    bss = tss - wcss    \n",
    "    print bss \n",
    "    plt.title(\"KMeans Explained Variance\")\n",
    "    plt.plot(k_list,bss)\n",
    "    points = plt.scatter(k_list,bss,c='r', s=25)\n",
    "    plt.ylabel('Variance')\n",
    "    plt.xlabel('K-value')\n",
    "   \n",
    "    plt.grid('on', which='major', axis='x' )\n",
    "    plt.grid('on', which='major', axis='y' )\n",
    "   \n",
    "    plt.legend([points],['Variance'],loc='best')  \n",
    "    plt.xticks(k_list)\n",
    "\n",
    "start_k = int(raw_input(\"Enter starting K: \"))\n",
    "end_k = int(raw_input(\"Enter ending K: \"))\n",
    "int_k = int(raw_input(\"Enter Interval: \"))\n",
    "\n",
    "plot_variance(start_k, end_k,int_k)\n",
    "plt.show()"
   ]
  },
  {
   "cell_type": "markdown",
   "metadata": {},
   "source": [
    "#### REVERT BACK TO ORIGINAL DATASET, GENERATE A MAP"
   ]
  },
  {
   "cell_type": "code",
   "execution_count": 15,
   "metadata": {
    "collapsed": false
   },
   "outputs": [
    {
     "name": "stdout",
     "output_type": "stream",
     "text": [
      "Enter k: 2\n"
     ]
    },
    {
     "name": "stderr",
     "output_type": "stream",
     "text": [
      "/Users/edwingarcia/anaconda/lib/python2.7/site-packages/sklearn/utils/validation.py:386: DeprecationWarning: Passing 1d arrays as data is deprecated in 0.17 and willraise ValueError in 0.19. Reshape your data either using X.reshape(-1, 1) if your data has a single feature or X.reshape(1, -1) if it contains a single sample.\n",
      "  DeprecationWarning)\n",
      "/Users/edwingarcia/anaconda/lib/python2.7/site-packages/sklearn/utils/validation.py:386: DeprecationWarning: Passing 1d arrays as data is deprecated in 0.17 and willraise ValueError in 0.19. Reshape your data either using X.reshape(-1, 1) if your data has a single feature or X.reshape(1, -1) if it contains a single sample.\n",
      "  DeprecationWarning)\n"
     ]
    }
   ],
   "source": [
    "CLUSTER_NUMBER = int(raw_input(\"Enter k: \"))\n",
    "def revert_to_map(X,a):\n",
    "    '''\n",
    "    This runs K-Means and translates created clusters\n",
    "    to the original data set. It shows a scatter plot with lon/lat as x/y coords\n",
    "    The params X is the dataset in matrix and  a as the loaded dataset prior to conversion as matrix\n",
    "    '''\n",
    "    \n",
    "    km = KMeans(n_clusters=CLUSTER_NUMBER, init='k-means++').fit(X)\n",
    "    km_pred = KMeans(n_clusters=CLUSTER_NUMBER, init='k-means++').fit_predict(X)\n",
    "    labels = km.labels_\n",
    "    clust_centers = km.cluster_centers_\n",
    "\n",
    "    ## CREATE DF FOR NEW CENTROIDS\n",
    "    a_centroids = pd.DataFrame([])\n",
    "    gmap_centroids = pd.DataFrame([])\n",
    "\n",
    "    ## CREATE A LABELED DF BASED ON ORIGINAL 'a' DF\n",
    "    a_labeled = a\n",
    "    a_labeled['label'] = labels\n",
    "\n",
    "    for i in clust_centers:\n",
    "        closest, y = pairwise_distances_argmin_min(i, X)\n",
    "        a_centroids = a_centroids.append(a_labeled.ix[closest[0]])\n",
    "        gmap_centroids = gmap_centroids.append(raw_map_df.ix[closest[0]])\n",
    "\n",
    "    ## CREATE SCATTER PLOT POINTS AND LABELS\n",
    "    gmap_centroids['label'] = a_centroids['label']\n",
    "    points = plt.scatter(a_labeled['longitude'],  a_labeled['latitude'],marker='.', c=a_labeled['label'],s=3,alpha=0.5)\n",
    "    clust = plt.scatter(a_centroids['longitude'],a_centroids['latitude'],c=a_centroids['label'],s=150, marker='o',edgecolors='w', alpha=0.8)\n",
    "\n",
    "    ## PLOT INFO AND STYLE\n",
    "    plt.title(\"K-Means k=%s With Centroids Mapped into Raw Dataset\" %(CLUSTER_NUMBER))\n",
    "    plt.xlabel(\"Longitude\")\n",
    "    plt.ylabel(\"Latitude\")\n",
    "    plt.legend([points, clust],['Points','Clusters'],loc='best')\n",
    "    plt.show()\n",
    "\n",
    "revert_to_map(X,a)"
   ]
  },
  {
   "cell_type": "markdown",
   "metadata": {},
   "source": [
    "### GENERATE GOOGLE MAP"
   ]
  },
  {
   "cell_type": "code",
   "execution_count": 108,
   "metadata": {
    "collapsed": false
   },
   "outputs": [
    {
     "name": "stdout",
     "output_type": "stream",
     "text": [
      "Enter name of your map: test2\n"
     ]
    }
   ],
   "source": [
    "## GENERATE GOOGLE MAP IN SEPARATE HTML FILE\n",
    "map_name = raw_input(\"Enter name of your map: \")\n",
    "gmap = gmplot.GoogleMapPlotter(29.8, -95.4, 9.0)\n",
    "gmap.scatter(raw_map_df['latitude'], raw_map_df['longitude'], '#3B0B39', alpha=0.4, size=60, marker=False)\n",
    "gmap.heatmap(gmap_centroids['latitude'], gmap_centroids['longitude'],radius=(20))\n",
    "\n",
    "## PATH IS OUTPUT FOLDER/FILENAME + SEQUENCE NUMBER.html\n",
    "map_file = \"%s/KMeans-k%s-%s-%s.html\" %(OUTPUT_FOLDER,CLUSTER_NUMBER,map_name,CLUSTER_NUMBER)\n",
    "gmap.draw(map_file)"
   ]
  },
  {
   "cell_type": "code",
   "execution_count": 109,
   "metadata": {
    "collapsed": false
   },
   "outputs": [
    {
     "name": "stdout",
     "output_type": "stream",
     "text": [
      "Enter name of your map: coords\n"
     ]
    }
   ],
   "source": [
    "#### Create aKML FILE FOR FUSION MAP/ arcGIS\n",
    "kml_name = raw_input(\"Enter name of your map: \")\n",
    "map_file = \"%s/KMeans-k%s-%s-%s.kml.csv\" %(OUTPUT_FOLDER,CLUSTER_NUMBER,kml_name,CLUSTER_NUMBER)\n",
    "kml = gmap_centroids[['latitude','longitude','label']]\n",
    "kml.to_csv(map_file)"
   ]
  },
  {
   "cell_type": "markdown",
   "metadata": {},
   "source": [
    "#### Generate Multiple K-Means Graphs"
   ]
  },
  {
   "cell_type": "code",
   "execution_count": 12,
   "metadata": {
    "collapsed": false
   },
   "outputs": [
    {
     "ename": "NameError",
     "evalue": "name 'labels' is not defined",
     "output_type": "error",
     "traceback": [
      "\u001b[0;31m---------------------------------------------------------------------------\u001b[0m",
      "\u001b[0;31mNameError\u001b[0m                                 Traceback (most recent call last)",
      "\u001b[0;32m<ipython-input-12-fa59fc671e88>\u001b[0m in \u001b[0;36m<module>\u001b[0;34m()\u001b[0m\n\u001b[1;32m     10\u001b[0m \u001b[0mari_list\u001b[0m \u001b[0;34m=\u001b[0m \u001b[0mnp\u001b[0m\u001b[0;34m.\u001b[0m\u001b[0marray\u001b[0m\u001b[0;34m(\u001b[0m\u001b[0;34m[\u001b[0m\u001b[0;34m]\u001b[0m\u001b[0;34m)\u001b[0m\u001b[0;34m\u001b[0m\u001b[0m\n\u001b[1;32m     11\u001b[0m \u001b[0ma_labeled\u001b[0m \u001b[0;34m=\u001b[0m \u001b[0ma\u001b[0m\u001b[0;34m\u001b[0m\u001b[0m\n\u001b[0;32m---> 12\u001b[0;31m \u001b[0ma_labeled\u001b[0m\u001b[0;34m[\u001b[0m\u001b[0;34m'label'\u001b[0m\u001b[0;34m]\u001b[0m \u001b[0;34m=\u001b[0m \u001b[0mlabels\u001b[0m\u001b[0;34m\u001b[0m\u001b[0m\n\u001b[0m\u001b[1;32m     13\u001b[0m \u001b[0ma_centroids\u001b[0m \u001b[0;34m=\u001b[0m \u001b[0mpd\u001b[0m\u001b[0;34m.\u001b[0m\u001b[0mDataFrame\u001b[0m\u001b[0;34m(\u001b[0m\u001b[0;34m[\u001b[0m\u001b[0;34m]\u001b[0m\u001b[0;34m)\u001b[0m\u001b[0;34m\u001b[0m\u001b[0m\n\u001b[1;32m     14\u001b[0m \u001b[0;34m\u001b[0m\u001b[0m\n",
      "\u001b[0;31mNameError\u001b[0m: name 'labels' is not defined"
     ]
    }
   ],
   "source": [
    "\n",
    "## REDUCE DATA USING PCA\n",
    "pca = PCA(n_components=2).fit(X)\n",
    "pca_2d = pd.DataFrame(pca.transform(X))\n",
    "\n",
    "# Add PCA cols to DF\n",
    "a.loc[:,('pca1')] = pca_2d[0]\n",
    "a.loc[:,('pca2')] = pca_2d[1]\n",
    "\n",
    "ari_list = np.array([])\n",
    "a_labeled = a\n",
    "a_labeled['label'] = labels\n",
    "a_centroids = pd.DataFrame([])\n",
    "\n",
    "x_axis = np.arange(3,4,2)\n",
    "for i in x_axis:\n",
    "    ## RUN K-MEANS\n",
    "    km = KMeans(n_clusters=i, init='k-means++').fit(pca_2d)\n",
    "    km_pred = KMeans(n_clusters=i, init='k-means++').fit_predict(pca_2d)\n",
    "    labels = km.labels_\n",
    "    clust_centers = km.cluster_centers_\n",
    "    \n",
    "    for j in clust_centers:\n",
    "        closest, y = pairwise_distances_argmin_min(j, pca_2d)\n",
    "        a_centroids = a_centroids.append(a_labeled.ix[closest[0]])\n",
    "\n",
    "    \n",
    "    ## GET ARI \n",
    "    ari = metrics.adjusted_rand_score(km.labels_, km_pred) \n",
    "    ari_list = np.append(ari_list, ari)\n",
    "    sil = metrics.silhouette_score(X, km_pred)\n",
    "    \n",
    "    print ari_list\n",
    "    ## PLOT\n",
    "    title_str = \"K-Means, Clusters=%s, ARI=%.3f, Silhouette Coefficient=%.3f\" %(i,ari,sil)\n",
    "#     title_str = \"K-Means, Clusters=%s, ARI=%.3f, Silhouette Coefficient=\" %(i,ari)\n",
    "    fig, (ax1,ax2) = plt.subplots(1,2, figsize=(16,6))\n",
    "#     fig.set_size_inches(16, 6)\n",
    "    points = ax1.scatter(pca_2d[1],pca_2d[0],c=labels,s=5, alpha=0.6)\n",
    "    centroids = ax1.scatter(a_centroids['pca1'],a_centroids['pca2'], c=a_centroids['label'], marker='o',s=75, edgecolors='w')\n",
    "    ax1.legend([points,centroids],['Points','Centroids'])\n",
    "    ax1.set_title(title_str)\n",
    "    ax1.set_ylabel(\"PCA 1\")\n",
    "    ax1.set_xlabel(\"PCA 2\")\n",
    "\n",
    "# for i in x_axis:\n",
    "ari_score = ax2.scatter(x_axis,ari_list,c='r',s=40)\n",
    "ax2.plot(x_axis,ari_list,c='b')\n",
    "ax2.legend([ari_score],['Adjusted Rand Score'])\n",
    "ax2.set_title(\"Adjusted Rand Index for K-Means\")\n",
    "ax2.set_ylabel(\"Adjusted Rand Score\")\n",
    "ax2.set_xlabel(\"Clusters\")\n",
    "plt.show()"
   ]
  },
  {
   "cell_type": "markdown",
   "metadata": {},
   "source": [
    "### END OF K-MEANS CODE"
   ]
  },
  {
   "cell_type": "markdown",
   "metadata": {},
   "source": [
    "#### BENCHMARKING"
   ]
  },
  {
   "cell_type": "code",
   "execution_count": 13,
   "metadata": {
    "collapsed": true
   },
   "outputs": [],
   "source": [
    "def bench_k_means(estimator, name, data):\n",
    "    t0 = time()\n",
    "    estimator.fit(data)\n",
    "    print('% 9s   %.2fs    %i   %.3f   %.3f   %.3f   %.3f   %.3f    %.3f'\n",
    "          % (name, (time() - t0), estimator.inertia_,\n",
    "             metrics.homogeneity_score(labels, estimator.labels_),\n",
    "             metrics.completeness_score(labels, estimator.labels_),\n",
    "             metrics.v_measure_score(labels, estimator.labels_),\n",
    "             metrics.adjusted_rand_score(labels, estimator.labels_),\n",
    "             metrics.adjusted_mutual_info_score(labels,  estimator.labels_),\n",
    "             metrics.silhouette_score(data, estimator.labels_,\n",
    "                                      metric='euclidean',\n",
    "                                      sample_size=sample_size)))"
   ]
  },
  {
   "cell_type": "code",
   "execution_count": 14,
   "metadata": {
    "collapsed": false
   },
   "outputs": [
    {
     "name": "stdout",
     "output_type": "stream",
     "text": [
      "_______________________________________________________________________________\n",
      "Evaluate K-Means\n",
      "n_digits: 10, \t n_samples 12645, \t n_features 9\n",
      "_______________________________________________________________________________\n",
      "init         time  inertia    homo   compl  v-meas     ARI AMI  silhouette\n"
     ]
    },
    {
     "ename": "NameError",
     "evalue": "global name 'labels' is not defined",
     "output_type": "error",
     "traceback": [
      "\u001b[0;31m---------------------------------------------------------------------------\u001b[0m",
      "\u001b[0;31mNameError\u001b[0m                                 Traceback (most recent call last)",
      "\u001b[0;32m<ipython-input-14-6a513809f6d8>\u001b[0m in \u001b[0;36m<module>\u001b[0;34m()\u001b[0m\n\u001b[1;32m     12\u001b[0m \u001b[0;34m\u001b[0m\u001b[0m\n\u001b[1;32m     13\u001b[0m bench_k_means(KMeans(init='k-means++', n_clusters=n_digits, n_init=10),\n\u001b[0;32m---> 14\u001b[0;31m               name=\"k-means++\", data=X)\n\u001b[0m\u001b[1;32m     15\u001b[0m \u001b[0;34m\u001b[0m\u001b[0m\n\u001b[1;32m     16\u001b[0m bench_k_means(KMeans(init='random', n_clusters=n_digits, n_init=10),\n",
      "\u001b[0;32m<ipython-input-13-d769fc5bdb06>\u001b[0m in \u001b[0;36mbench_k_means\u001b[0;34m(estimator, name, data)\u001b[0m\n\u001b[1;32m      4\u001b[0m     print('% 9s   %.2fs    %i   %.3f   %.3f   %.3f   %.3f   %.3f    %.3f'\n\u001b[1;32m      5\u001b[0m           % (name, (time() - t0), estimator.inertia_,\n\u001b[0;32m----> 6\u001b[0;31m              \u001b[0mmetrics\u001b[0m\u001b[0;34m.\u001b[0m\u001b[0mhomogeneity_score\u001b[0m\u001b[0;34m(\u001b[0m\u001b[0mlabels\u001b[0m\u001b[0;34m,\u001b[0m \u001b[0mestimator\u001b[0m\u001b[0;34m.\u001b[0m\u001b[0mlabels_\u001b[0m\u001b[0;34m)\u001b[0m\u001b[0;34m,\u001b[0m\u001b[0;34m\u001b[0m\u001b[0m\n\u001b[0m\u001b[1;32m      7\u001b[0m              \u001b[0mmetrics\u001b[0m\u001b[0;34m.\u001b[0m\u001b[0mcompleteness_score\u001b[0m\u001b[0;34m(\u001b[0m\u001b[0mlabels\u001b[0m\u001b[0;34m,\u001b[0m \u001b[0mestimator\u001b[0m\u001b[0;34m.\u001b[0m\u001b[0mlabels_\u001b[0m\u001b[0;34m)\u001b[0m\u001b[0;34m,\u001b[0m\u001b[0;34m\u001b[0m\u001b[0m\n\u001b[1;32m      8\u001b[0m              \u001b[0mmetrics\u001b[0m\u001b[0;34m.\u001b[0m\u001b[0mv_measure_score\u001b[0m\u001b[0;34m(\u001b[0m\u001b[0mlabels\u001b[0m\u001b[0;34m,\u001b[0m \u001b[0mestimator\u001b[0m\u001b[0;34m.\u001b[0m\u001b[0mlabels_\u001b[0m\u001b[0;34m)\u001b[0m\u001b[0;34m,\u001b[0m\u001b[0;34m\u001b[0m\u001b[0m\n",
      "\u001b[0;31mNameError\u001b[0m: global name 'labels' is not defined"
     ]
    }
   ],
   "source": [
    "n_digits = 10\n",
    "sample_size = 1000\n",
    "\n",
    "n_samples, n_features = X.shape\n",
    "print(79 * '_')\n",
    "print \"Evaluate K-Means\"\n",
    "print(\"n_digits: %d, \\t n_samples %d, \\t n_features %d\"\n",
    "      % (n_digits, n_samples, n_features))\n",
    "print(79 * '_')\n",
    "print('% 9s' % 'init'\n",
    "      '         time  inertia    homo   compl  v-meas     ARI AMI  silhouette')\n",
    "\n",
    "bench_k_means(KMeans(init='k-means++', n_clusters=n_digits, n_init=10),\n",
    "              name=\"k-means++\", data=X)\n",
    "\n",
    "bench_k_means(KMeans(init='random', n_clusters=n_digits, n_init=10),\n",
    "              name=\"random\", data=X)\n",
    "              \n",
    "# in this case the seeding of the centers is deterministic, hence we run the\n",
    "# kmeans algorithm only once with n_init=1\n",
    "pca = PCA(n_components=n_digits-1).fit(X)\n",
    "bench_k_means(KMeans(init=pca.components_, n_clusters=n_digits-1, n_init=1),\n",
    "              name=\"PCA-based\",\n",
    "              data=X)\n",
    "print(79 * '_')\n",
    "print \"Evaluation Complete!\""
   ]
  },
  {
   "cell_type": "markdown",
   "metadata": {},
   "source": [
    "### K-MEANS CODE END"
   ]
  },
  {
   "cell_type": "markdown",
   "metadata": {},
   "source": [
    "##### REFERENCES:\n",
    "Part of the code source comes from  scikitlearn website: http://scikit-learn.org/stable/auto_examples/cluster/plot_kmeans_digits.html"
   ]
  },
  {
   "cell_type": "code",
   "execution_count": null,
   "metadata": {
    "collapsed": true
   },
   "outputs": [],
   "source": []
  }
 ],
 "metadata": {
  "anaconda-cloud": {},
  "kernelspec": {
   "display_name": "Python [Root]",
   "language": "python",
   "name": "Python [Root]"
  },
  "language_info": {
   "codemirror_mode": {
    "name": "ipython",
    "version": 2
   },
   "file_extension": ".py",
   "mimetype": "text/x-python",
   "name": "python",
   "nbconvert_exporter": "python",
   "pygments_lexer": "ipython2",
   "version": "2.7.12"
  }
 },
 "nbformat": 4,
 "nbformat_minor": 0
}
